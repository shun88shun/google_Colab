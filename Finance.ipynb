{
  "nbformat": 4,
  "nbformat_minor": 0,
  "metadata": {
    "colab": {
      "name": "Finance.ipynb",
      "provenance": [],
      "authorship_tag": "ABX9TyOGpSs/vQh3ZqvsV5jDQ0s1",
      "include_colab_link": true
    },
    "kernelspec": {
      "name": "python3",
      "display_name": "Python 3"
    },
    "language_info": {
      "name": "python"
    }
  },
  "cells": [
    {
      "cell_type": "markdown",
      "metadata": {
        "id": "view-in-github",
        "colab_type": "text"
      },
      "source": [
        "<a href=\"https://colab.research.google.com/github/shun88shun/google_Colab/blob/main/Finance.ipynb\" target=\"_parent\"><img src=\"https://colab.research.google.com/assets/colab-badge.svg\" alt=\"Open In Colab\"/></a>"
      ]
    },
    {
      "cell_type": "code",
      "source": [
        "print(\"test\")"
      ],
      "metadata": {
        "id": "KDSJgPyg_Iqb",
        "outputId": "19d95593-2950-41d0-9efb-b01cc6f0be04",
        "colab": {
          "base_uri": "https://localhost:8080/"
        }
      },
      "execution_count": null,
      "outputs": [
        {
          "output_type": "stream",
          "name": "stdout",
          "text": [
            "test\n"
          ]
        }
      ]
    },
    {
      "cell_type": "code",
      "source": [
        "%%file py_add.cpp\n",
        "#include <Python.h>\n",
        "#include <iostream>\n",
        "int c_add(int a, int b)\n",
        "{\n",
        "    return a + b;\n",
        "}\n",
        "\n",
        "static PyObject* pyadd(PyObject* self, PyObject* args)\n",
        "{\n",
        "    int a, b, c;\n",
        "\n",
        "    if (!PyArg_ParseTuple(args, \"ii\", &a, &b)){\n",
        "        return NULL;\n",
        "    }\n",
        "\n",
        "    c = c_add(a, b);\n",
        "\n",
        "    return Py_BuildValue(\"i\", c);\n",
        "}\n",
        "\n",
        "static PyMethodDef addMethods[] = {\n",
        "    { \"c_add\", pyadd, METH_VARARGS},\n",
        "    { NULL }\n",
        "};\n",
        "\n",
        "static struct PyModuleDef addModule = {\n",
        "    PyModuleDef_HEAD_INIT,\n",
        "    \"addModule\",\n",
        "    \"Python3 C API Module(Sample 2)\",\n",
        "    -1,\n",
        "    addMethods\n",
        "};\n",
        "\n",
        "PyMODINIT_FUNC PyInit_addModule(void)\n",
        "{\n",
        "    return PyModule_Create(&addModule);\n",
        "}"
      ],
      "metadata": {
        "id": "CpZKUKEXAPFq",
        "outputId": "8310e1c3-fdae-4358-b652-3494dded0037",
        "colab": {
          "base_uri": "https://localhost:8080/"
        }
      },
      "execution_count": 19,
      "outputs": [
        {
          "output_type": "stream",
          "name": "stdout",
          "text": [
            "Writing py_add.cpp\n"
          ]
        }
      ]
    },
    {
      "cell_type": "code",
      "source": [
        "%%file setup.py\n",
        "from distutils.core import setup, Extension\n",
        "\n",
        "setup(name = 'addModule', version = '1.0.0',  \\\n",
        "   ext_modules = [Extension('addModule', ['py_add.cpp'])])"
      ],
      "metadata": {
        "id": "J3R88XxvDPjN",
        "outputId": "449954c5-0e72-4ea2-b5d8-f971c2c9b156",
        "colab": {
          "base_uri": "https://localhost:8080/"
        }
      },
      "execution_count": 20,
      "outputs": [
        {
          "output_type": "stream",
          "name": "stdout",
          "text": [
            "Overwriting setup.py\n"
          ]
        }
      ]
    },
    {
      "cell_type": "code",
      "source": [
        "!python setup.py install"
      ],
      "metadata": {
        "id": "qEIgStaKDihI",
        "outputId": "f00e6373-f9e4-4c72-c789-1e8dfc3fbb34",
        "colab": {
          "base_uri": "https://localhost:8080/"
        }
      },
      "execution_count": 21,
      "outputs": [
        {
          "output_type": "stream",
          "name": "stdout",
          "text": [
            "running install\n",
            "running build\n",
            "running build_ext\n",
            "building 'addModule' extension\n",
            "x86_64-linux-gnu-gcc -pthread -Wno-unused-result -Wsign-compare -DNDEBUG -g -fwrapv -O2 -Wall -g -fdebug-prefix-map=/build/python3.7-dIfpci/python3.7-3.7.13=. -fstack-protector-strong -Wformat -Werror=format-security -g -fdebug-prefix-map=/build/python3.7-dIfpci/python3.7-3.7.13=. -fstack-protector-strong -Wformat -Werror=format-security -Wdate-time -D_FORTIFY_SOURCE=2 -fPIC -I/usr/include/python3.7m -c py_add.cpp -o build/temp.linux-x86_64-3.7/py_add.o\n",
            "x86_64-linux-gnu-g++ -pthread -shared -Wl,-O1 -Wl,-Bsymbolic-functions -Wl,-Bsymbolic-functions -Wl,-z,relro -Wl,-Bsymbolic-functions -Wl,-z,relro -g -fdebug-prefix-map=/build/python3.7-dIfpci/python3.7-3.7.13=. -fstack-protector-strong -Wformat -Werror=format-security -Wdate-time -D_FORTIFY_SOURCE=2 build/temp.linux-x86_64-3.7/py_add.o -o build/lib.linux-x86_64-3.7/addModule.cpython-37m-x86_64-linux-gnu.so\n",
            "running install_lib\n",
            "copying build/lib.linux-x86_64-3.7/addModule.cpython-37m-x86_64-linux-gnu.so -> /usr/local/lib/python3.7/dist-packages\n",
            "running install_egg_info\n",
            "Writing /usr/local/lib/python3.7/dist-packages/addModule-1.0.0.egg-info\n"
          ]
        }
      ]
    },
    {
      "cell_type": "code",
      "source": [
        "import addModule\n",
        "\n",
        "c = addModule.c_add(2, 3)\n",
        "print(c)"
      ],
      "metadata": {
        "id": "RfefHp4JDoZq",
        "outputId": "3df9c46f-8b41-4219-a159-d689c52f7da2",
        "colab": {
          "base_uri": "https://localhost:8080/"
        }
      },
      "execution_count": 22,
      "outputs": [
        {
          "output_type": "stream",
          "name": "stdout",
          "text": [
            "5\n"
          ]
        }
      ]
    },
    {
      "cell_type": "code",
      "source": [
        ""
      ],
      "metadata": {
        "id": "PSNOXquJEsKF"
      },
      "execution_count": null,
      "outputs": []
    }
  ]
}